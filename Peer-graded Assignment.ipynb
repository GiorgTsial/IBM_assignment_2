{
 "cells": [
  {
   "cell_type": "markdown",
   "metadata": {},
   "source": [
    "<center>\n",
    "    <img src=\"https://cf-courses-data.s3.us.cloud-object-storage.appdomain.cloud/IBMDeveloperSkillsNetwork-DS0105EN-SkillsNetwork/labs/Module2/images/SN_web_lightmode.png\" width=\"300\" alt=\"cognitiveclass.ai logo\">\n",
    "</center>\n"
   ]
  },
  {
   "cell_type": "markdown",
   "metadata": {},
   "source": [
    "#### Add your code below following the instructions given in the course\n"
   ]
  },
  {
   "cell_type": "markdown",
   "metadata": {},
   "source": [
    "# Peer-graded assignment"
   ]
  },
  {
   "cell_type": "markdown",
   "metadata": {},
   "source": [
    "## Introduction\n",
    "### This is an introduction to the Jupyter notebooks"
   ]
  },
  {
   "cell_type": "markdown",
   "metadata": {},
   "source": [
    "### Data science languages:\n",
    "Here are some very popular data science languages\n",
    "1. Python\n",
    "2. Julia\n",
    "3. R\n",
    "4. SQL"
   ]
  },
  {
   "cell_type": "markdown",
   "metadata": {},
   "source": [
    "## Data science libraries\n",
    "Here are some data science libraries:\n",
    "1. Pandas\n",
    "2. ggplot\n",
    "3. scikitlearn\n",
    "4. scipy"
   ]
  },
  {
   "cell_type": "markdown",
   "metadata": {},
   "source": [
    "ID|Tools for data science name|\n",
    "|--|--|\n",
    "|1|Regression models|\n",
    "|2|Apache Spark|\n",
    "|3|RStudio|\n",
    "|4|Watson Studio|"
   ]
  },
  {
   "cell_type": "markdown",
   "metadata": {},
   "source": [
    "## Arithmetic expressions examples\n",
    "You can write arithmetic expressions like the following:\n",
    "1. $y_{i} = x^{2}_{i} + 2x_{i} - 1$\n",
    "2. $\\sigma^{2} = \\sum_{i=1}^{N} \\frac{(x - \\hat{x})^{2}}{N}$\n",
    "3. $y = f(x) + \\epsilon \\quad x \\in \\mathbb{R}$"
   ]
  },
  {
   "cell_type": "markdown",
   "metadata": {},
   "source": [
    "## Exercise 8 Multiply and add"
   ]
  },
  {
   "cell_type": "code",
   "execution_count": 2,
   "metadata": {
    "tags": []
   },
   "outputs": [
    {
     "name": "stdout",
     "output_type": "stream",
     "text": [
      "Product:  30\n",
      "Sum:  13\n"
     ]
    }
   ],
   "source": [
    "# Define two numbers x and y and print their product and their sum \n",
    "x = 10\n",
    "y = 3\n",
    "prod = x * y\n",
    "suma = x + y\n",
    "print(\"Product: \", prod)\n",
    "print(\"Sum: \", suma)"
   ]
  },
  {
   "cell_type": "markdown",
   "metadata": {},
   "source": [
    "## Exercise 9 Convert minutes to hours"
   ]
  },
  {
   "cell_type": "code",
   "execution_count": 3,
   "metadata": {
    "tags": []
   },
   "outputs": [
    {
     "name": "stdout",
     "output_type": "stream",
     "text": [
      "Hours:  703.0666666666667\n"
     ]
    }
   ],
   "source": [
    "minutes = 42184\n",
    "hours = minutes // 60 + minutes % 60 / 60\n",
    "print(\"Hours: \", hours)"
   ]
  },
  {
   "cell_type": "markdown",
   "metadata": {},
   "source": [
    "## Objectives\n",
    "These are some of the objectives of the course:\n",
    "* Learn some data-science languages\n",
    "* Learn how to visualise data\n",
    "* Learn how to use data-sicence tools"
   ]
  },
  {
   "cell_type": "markdown",
   "metadata": {},
   "source": [
    "### Author: George Tsialiamanis"
   ]
  },
  {
   "cell_type": "code",
   "execution_count": null,
   "metadata": {},
   "outputs": [],
   "source": []
  }
 ],
 "metadata": {
  "kernelspec": {
   "display_name": "Python",
   "language": "python",
   "name": "conda-env-python-py"
  },
  "language_info": {
   "codemirror_mode": {
    "name": "ipython",
    "version": 3
   },
   "file_extension": ".py",
   "mimetype": "text/x-python",
   "name": "python",
   "nbconvert_exporter": "python",
   "pygments_lexer": "ipython3",
   "version": "3.7.12"
  }
 },
 "nbformat": 4,
 "nbformat_minor": 4
}
